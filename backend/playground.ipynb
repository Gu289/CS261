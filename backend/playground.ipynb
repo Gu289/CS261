{
 "cells": [
  {
   "cell_type": "code",
   "execution_count": null,
   "metadata": {},
   "outputs": [],
   "source": [
    "from django.db import connection\n",
    "from django.conf import settings\n",
    "import os\n",
    "import django\n",
    "\n",
    "# Set up Django settings\n",
    "os.environ.setdefault(\"DJANGO_SETTINGS_MODULE\", \"traffic_sim.settings\")\n",
    "\n",
    "# Initialize Django\n",
    "django.setup()\n",
    "\n",
    "def compute_metrics(path_to_queries):\n",
    "    with open(path_to_queries, \"r\") as file:\n",
    "        sql_query = file.read()\n",
    "    \n",
    "    with connection.cursor() as cursor:\n",
    "        cursor.execute(sql_query)\n",
    "        result = cursor.fetchall()  # If your query returns results\n",
    "        columns = [col[0] for col in cursor.description]\n",
    "        result = [dict(zip(columns, row)) for row in result]\n",
    "    print(result)\n",
    "\n",
    "\n",
    "\n",
    "path_to_queries = r\"C:\\Users\\ahmad\\OneDrive - University of Warwick\\CS261 Software Engineering\\CS261\\backend\\queries\\compute_AWT_MWT.sql\"\n",
    "# path_to_queries = \"backend\\queries\\compute_AWT_MWT.sql\"\n",
    "# compute_metrics(path_to_queries)"
   ]
  }
 ],
 "metadata": {
  "kernelspec": {
   "display_name": "CS261",
   "language": "python",
   "name": "python3"
  },
  "language_info": {
   "codemirror_mode": {
    "name": "ipython",
    "version": 3
   },
   "file_extension": ".py",
   "mimetype": "text/x-python",
   "name": "python",
   "nbconvert_exporter": "python",
   "pygments_lexer": "ipython3",
   "version": "3.11.9"
  }
 },
 "nbformat": 4,
 "nbformat_minor": 2
}
