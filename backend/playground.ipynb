{
 "cells": [
  {
   "cell_type": "code",
   "execution_count": 3,
   "metadata": {},
   "outputs": [],
   "source": [
    "from queue import Queue\n",
    "import threading\n",
    "n = 2\n",
    "\n",
    "traffic_dict = {\n",
    "    \"north\": {\n",
    "        \"incoming\": [Queue() for _ in range(n)],\n",
    "        \"exiting\": [Queue() for _ in range(n)]\n",
    "    },\n",
    "    \"south\": {\n",
    "        \"incoming\": [Queue() for _ in range(n)],\n",
    "        \"exiting\": [Queue() for _ in range(n)]\n",
    "    },\n",
    "    \"east\": {\n",
    "        \"incoming\": [Queue() for _ in range(n)],\n",
    "        \"exiting\": [Queue() for _ in range(n)]\n",
    "    },\n",
    "    \"west\": {\n",
    "        \"incoming\": [Queue() for _ in range(n)],\n",
    "        \"exiting\": [Queue() for _ in range(n)]\n",
    "    }\n",
    "}\n",
    "\n",
    "locks_dict = {\n",
    "    direction: {\n",
    "        key: [threading.Lock() for _ in range(n)]\n",
    "        for key in [\"incoming\", \"exiting\"]\n",
    "    }\n",
    "    for direction in traffic_dict\n",
    "}\n"
   ]
  },
  {
   "cell_type": "code",
   "execution_count": 10,
   "metadata": {},
   "outputs": [
    {
     "data": {
      "text/plain": [
       "{'north': {'incoming': [<unlocked _thread.lock object at 0x00000261CCA2B1B0>,\n",
       "   <unlocked _thread.lock object at 0x00000261CCA2B330>],\n",
       "  'exiting': [<unlocked _thread.lock object at 0x00000261CCA2B750>,\n",
       "   <unlocked _thread.lock object at 0x00000261CCA2B690>]},\n",
       " 'south': {'incoming': [<unlocked _thread.lock object at 0x00000261CCA2B600>,\n",
       "   <unlocked _thread.lock object at 0x00000261CCA2B5A0>],\n",
       "  'exiting': [<unlocked _thread.lock object at 0x00000261CCA2B810>,\n",
       "   <unlocked _thread.lock object at 0x00000261CCA2B8A0>]},\n",
       " 'east': {'incoming': [<unlocked _thread.lock object at 0x00000261CCA2B240>,\n",
       "   <unlocked _thread.lock object at 0x00000261CCBFCC90>],\n",
       "  'exiting': [<unlocked _thread.lock object at 0x00000261CCBFCC00>,\n",
       "   <unlocked _thread.lock object at 0x00000261CCBFCC30>]},\n",
       " 'west': {'incoming': [<unlocked _thread.lock object at 0x00000261CCBFCBA0>,\n",
       "   <unlocked _thread.lock object at 0x00000261CCBFCBD0>],\n",
       "  'exiting': [<unlocked _thread.lock object at 0x00000261CCBFCCC0>,\n",
       "   <unlocked _thread.lock object at 0x00000261CCBFCDE0>]}}"
      ]
     },
     "execution_count": 10,
     "metadata": {},
     "output_type": "execute_result"
    }
   ],
   "source": [
    "locks_dict"
   ]
  }
 ],
 "metadata": {
  "kernelspec": {
   "display_name": "base",
   "language": "python",
   "name": "python3"
  },
  "language_info": {
   "codemirror_mode": {
    "name": "ipython",
    "version": 3
   },
   "file_extension": ".py",
   "mimetype": "text/x-python",
   "name": "python",
   "nbconvert_exporter": "python",
   "pygments_lexer": "ipython3",
   "version": "3.8.8"
  }
 },
 "nbformat": 4,
 "nbformat_minor": 2
}
