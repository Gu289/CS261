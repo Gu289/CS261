{
 "cells": [
  {
   "cell_type": "code",
   "execution_count": 69,
   "metadata": {},
   "outputs": [],
   "source": [
    "junction_config = {\n",
    "    \"north\": {\n",
    "        \"inbound\": 500,\n",
    "        \"east\": 200,\n",
    "        \"south\": 150,\n",
    "        \"west\": 150\n",
    "    },\n",
    "    \"east\": {\n",
    "        \"inbound\": 500,\n",
    "        \"north\": 150,\n",
    "        \"south\": 150,\n",
    "        \"west\": 200\n",
    "    },\n",
    "    \"south\": {\n",
    "        \"inbound\": 500,\n",
    "        \"north\": 100,\n",
    "        \"east\":100,\n",
    "        \"west\": 300\n",
    "    },\n",
    "    \"west\": {\n",
    "        \"inbound\": 500,\n",
    "        \"north\": 400,\n",
    "        \"east\": 70,\n",
    "        \"south\": 30\n",
    "    },\n",
    "    \"leftTurn\": False,\n",
    "    \"numLanes\": 2\n",
    "}"
   ]
  },
  {
   "cell_type": "code",
   "execution_count": 74,
   "metadata": {},
   "outputs": [
    {
     "name": "stdout",
     "output_type": "stream",
     "text": [
      "inbound: 500\n",
      "east: 200\n",
      "south: 150\n",
      "west: 150\n"
     ]
    }
   ],
   "source": [
    "north_config = junction_config[\"north\"]\n",
    "for key, value in north_config.items():\n",
    "    print(f\"{key}: {value}\")"
   ]
  }
 ],
 "metadata": {
  "kernelspec": {
   "display_name": "base",
   "language": "python",
   "name": "python3"
  },
  "language_info": {
   "codemirror_mode": {
    "name": "ipython",
    "version": 3
   },
   "file_extension": ".py",
   "mimetype": "text/x-python",
   "name": "python",
   "nbconvert_exporter": "python",
   "pygments_lexer": "ipython3",
   "version": "3.8.8"
  }
 },
 "nbformat": 4,
 "nbformat_minor": 2
}
