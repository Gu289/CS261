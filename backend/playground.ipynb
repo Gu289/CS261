{
 "cells": [
  {
   "cell_type": "code",
   "execution_count": null,
   "metadata": {},
   "outputs": [
    {
     "ename": "SynchronousOnlyOperation",
     "evalue": "You cannot call this from an async context - use a thread or sync_to_async.",
     "output_type": "error",
     "traceback": [
      "\u001b[1;31m---------------------------------------------------------------------------\u001b[0m",
      "\u001b[1;31mSynchronousOnlyOperation\u001b[0m                  Traceback (most recent call last)",
      "Cell \u001b[1;32mIn[29], line 32\u001b[0m\n\u001b[0;32m     30\u001b[0m path_to_queries \u001b[38;5;241m=\u001b[39m \u001b[38;5;124mr\u001b[39m\u001b[38;5;124m\"\u001b[39m\u001b[38;5;124mC:\u001b[39m\u001b[38;5;124m\\\u001b[39m\u001b[38;5;124mUsers\u001b[39m\u001b[38;5;124m\\\u001b[39m\u001b[38;5;124mahmad\u001b[39m\u001b[38;5;124m\\\u001b[39m\u001b[38;5;124mOneDrive - University of Warwick\u001b[39m\u001b[38;5;124m\\\u001b[39m\u001b[38;5;124mCS261 Software Engineering\u001b[39m\u001b[38;5;124m\\\u001b[39m\u001b[38;5;124mCS261\u001b[39m\u001b[38;5;124m\\\u001b[39m\u001b[38;5;124mbackend\u001b[39m\u001b[38;5;124m\\\u001b[39m\u001b[38;5;124mqueries\u001b[39m\u001b[38;5;124m\\\u001b[39m\u001b[38;5;124mcompute_AWT_MWT.sql\u001b[39m\u001b[38;5;124m\"\u001b[39m\n\u001b[0;32m     31\u001b[0m \u001b[38;5;66;03m# path_to_queries = \"backend\\queries\\compute_AWT_MWT.sql\"\u001b[39;00m\n\u001b[1;32m---> 32\u001b[0m \u001b[43mcompute_metrics\u001b[49m\u001b[43m(\u001b[49m\u001b[43mpath_to_queries\u001b[49m\u001b[43m)\u001b[49m\n",
      "Cell \u001b[1;32mIn[29], line 16\u001b[0m, in \u001b[0;36mcompute_metrics\u001b[1;34m(path_to_queries)\u001b[0m\n\u001b[0;32m     13\u001b[0m \u001b[38;5;28;01mwith\u001b[39;00m \u001b[38;5;28mopen\u001b[39m(path_to_queries, \u001b[38;5;124m\"\u001b[39m\u001b[38;5;124mr\u001b[39m\u001b[38;5;124m\"\u001b[39m) \u001b[38;5;28;01mas\u001b[39;00m file:\n\u001b[0;32m     14\u001b[0m     sql_query \u001b[38;5;241m=\u001b[39m file\u001b[38;5;241m.\u001b[39mread()\n\u001b[1;32m---> 16\u001b[0m \u001b[38;5;28;01mwith\u001b[39;00m \u001b[43mconnection\u001b[49m\u001b[38;5;241;43m.\u001b[39;49m\u001b[43mcursor\u001b[49m\u001b[43m(\u001b[49m\u001b[43m)\u001b[49m \u001b[38;5;28;01mas\u001b[39;00m cursor:\n\u001b[0;32m     17\u001b[0m     cursor\u001b[38;5;241m.\u001b[39mexecute(sql_query)\n\u001b[0;32m     18\u001b[0m     result \u001b[38;5;241m=\u001b[39m cursor\u001b[38;5;241m.\u001b[39mfetchall()  \u001b[38;5;66;03m# If your query returns results\u001b[39;00m\n",
      "File \u001b[1;32mc:\\Users\\ahmad\\anaconda3\\envs\\CS261\\Lib\\site-packages\\django\\utils\\asyncio.py:24\u001b[0m, in \u001b[0;36masync_unsafe.<locals>.decorator.<locals>.inner\u001b[1;34m(*args, **kwargs)\u001b[0m\n\u001b[0;32m     22\u001b[0m \u001b[38;5;28;01melse\u001b[39;00m:\n\u001b[0;32m     23\u001b[0m     \u001b[38;5;28;01mif\u001b[39;00m \u001b[38;5;129;01mnot\u001b[39;00m os\u001b[38;5;241m.\u001b[39menviron\u001b[38;5;241m.\u001b[39mget(\u001b[38;5;124m\"\u001b[39m\u001b[38;5;124mDJANGO_ALLOW_ASYNC_UNSAFE\u001b[39m\u001b[38;5;124m\"\u001b[39m):\n\u001b[1;32m---> 24\u001b[0m         \u001b[38;5;28;01mraise\u001b[39;00m SynchronousOnlyOperation(message)\n\u001b[0;32m     25\u001b[0m \u001b[38;5;66;03m# Pass onward.\u001b[39;00m\n\u001b[0;32m     26\u001b[0m \u001b[38;5;28;01mreturn\u001b[39;00m func(\u001b[38;5;241m*\u001b[39margs, \u001b[38;5;241m*\u001b[39m\u001b[38;5;241m*\u001b[39mkwargs)\n",
      "\u001b[1;31mSynchronousOnlyOperation\u001b[0m: You cannot call this from an async context - use a thread or sync_to_async."
     ]
    }
   ],
   "source": [
    "metrics = {\n",
    "    \"north\": {\n",
    "        \"average_service_time\": 10,\n",
    "        \"max_waiting_time\":20\n",
    "    },\n",
    "    \"south\": {\n",
    "        \"average_service_time\": 15,\n",
    "        \"max_waiting_time\":30\n",
    "    }\n",
    "}\n",
    "for direction in metrics:\n",
    "    metrics[direction][\"max_queue_length\"] = 2\n",
    "\n",
    "metrics\n"
   ]
  },
  {
   "cell_type": "code",
   "execution_count": null,
   "metadata": {
    "vscode": {
     "languageId": "javascript"
    }
   },
   "outputs": [],
   "source": []
  }
 ],
 "metadata": {
  "kernelspec": {
   "display_name": "CS261",
   "language": "python",
   "name": "python3"
  },
  "language_info": {
   "codemirror_mode": {
    "name": "ipython",
    "version": 3
   },
   "file_extension": ".py",
   "mimetype": "text/x-python",
   "name": "python",
   "nbconvert_exporter": "python",
   "pygments_lexer": "ipython3",
   "version": "3.11.9"
  }
 },
 "nbformat": 4,
 "nbformat_minor": 2
}
